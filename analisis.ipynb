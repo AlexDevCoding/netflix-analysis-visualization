{
 "cells": [
  {
   "cell_type": "markdown",
   "metadata": {},
   "source": [
    "# 🎬 Análisis de Datos de Netflix con Limpieza y Visualización\n",
    "\n",
    "Este análisis tiene como objetivo limpiar y transformar el dataset de **Netflix** para posteriormente analizar la información más relevante mediante un **dashboard interactivo en Power BI**.\n",
    "\n",
    "## 📚 Objetivos del Proyecto\n",
    "1. **Limpieza de Datos:** Identificación y tratamiento de valores nulos e inconsistencias.\n",
    "2. **Transformación de Datos:** Modificación de columnas para facilitar el análisis.\n",
    "3. **Visualización de Insights:** Construcción de un tablero de análisis visual.\n",
    "\n",
    "---\n"
   ]
  },
  {
   "cell_type": "markdown",
   "metadata": {},
   "source": [
    "![netflix](https://www.grupoisos.com/wp-content/uploads/2024/07/Nota-BB-Media.jpg)"
   ]
  },
  {
   "cell_type": "markdown",
   "metadata": {},
   "source": [
    "## ❓ Preguntas de Guía para el Análisis\n",
    "\n",
    "1. ¿Cuántos valores nulos hay en los datos? ¿Se pueden eliminar o reemplazar?\n",
    "2. ¿Qué columnas contienen valores incompletos? ¿Cuál es la mejor estrategia para manejarlos?\n",
    "3. ¿Existen columnas irrelevantes para el análisis? ¿Cuáles son y por qué eliminarlas?\n",
    "4. ¿El tipo de dato de la columna `release_year` es correcto? ¿Se puede convertir a entero para un análisis más eficiente?\n",
    "5. ¿La columna `listed_in` contiene valores múltiples? ¿Podemos extraer y analizar el primer valor?\n",
    "6. ¿Qué información clave debería reflejar el dashboard de **Power BI** para un análisis relevante?"
   ]
  },
  {
   "cell_type": "code",
   "execution_count": 64,
   "metadata": {},
   "outputs": [],
   "source": [
    "import pandas as pd\n",
    "import numpy as np\n",
    "\n",
    "peliculas = pd.read_csv('netflix_titles.csv')"
   ]
  },
  {
   "cell_type": "markdown",
   "metadata": {},
   "source": [
    "## 🔍 Exploración Inicial de los Datos"
   ]
  },
  {
   "cell_type": "code",
   "execution_count": 65,
   "metadata": {},
   "outputs": [
    {
     "data": {
      "application/vnd.microsoft.datawrangler.viewer.v0+json": {
       "columns": [
        {
         "name": "index",
         "rawType": "int64",
         "type": "integer"
        },
        {
         "name": "show_id",
         "rawType": "object",
         "type": "string"
        },
        {
         "name": "type",
         "rawType": "object",
         "type": "string"
        },
        {
         "name": "title",
         "rawType": "object",
         "type": "string"
        },
        {
         "name": "director",
         "rawType": "object",
         "type": "unknown"
        },
        {
         "name": "cast",
         "rawType": "object",
         "type": "unknown"
        },
        {
         "name": "country",
         "rawType": "object",
         "type": "unknown"
        },
        {
         "name": "date_added",
         "rawType": "object",
         "type": "string"
        },
        {
         "name": "release_year",
         "rawType": "int64",
         "type": "integer"
        },
        {
         "name": "rating",
         "rawType": "object",
         "type": "string"
        },
        {
         "name": "duration",
         "rawType": "object",
         "type": "string"
        },
        {
         "name": "listed_in",
         "rawType": "object",
         "type": "string"
        },
        {
         "name": "description",
         "rawType": "object",
         "type": "string"
        }
       ],
       "conversionMethod": "pd.DataFrame",
       "ref": "060b9603-6f1a-4649-bbd2-c8a8c4e43bcf",
       "rows": [
        [
         "0",
         "s1",
         "Movie",
         "Dick Johnson Is Dead",
         "Kirsten Johnson",
         null,
         "United States",
         "September 25, 2021",
         "2020",
         "PG-13",
         "90 min",
         "Documentaries",
         "As her father nears the end of his life, filmmaker Kirsten Johnson stages his death in inventive and comical ways to help them both face the inevitable."
        ],
        [
         "1",
         "s2",
         "TV Show",
         "Blood & Water",
         null,
         "Ama Qamata, Khosi Ngema, Gail Mabalane, Thabang Molaba, Dillon Windvogel, Natasha Thahane, Arno Greeff, Xolile Tshabalala, Getmore Sithole, Cindy Mahlangu, Ryle De Morny, Greteli Fincham, Sello Maake Ka-Ncube, Odwa Gwanya, Mekaila Mathys, Sandi Schultz, Duane Williams, Shamilla Miller, Patrick Mofokeng",
         "South Africa",
         "September 24, 2021",
         "2021",
         "TV-MA",
         "2 Seasons",
         "International TV Shows, TV Dramas, TV Mysteries",
         "After crossing paths at a party, a Cape Town teen sets out to prove whether a private-school swimming star is her sister who was abducted at birth."
        ],
        [
         "2",
         "s3",
         "TV Show",
         "Ganglands",
         "Julien Leclercq",
         "Sami Bouajila, Tracy Gotoas, Samuel Jouy, Nabiha Akkari, Sofia Lesaffre, Salim Kechiouche, Noureddine Farihi, Geert Van Rampelberg, Bakary Diombera",
         null,
         "September 24, 2021",
         "2021",
         "TV-MA",
         "1 Season",
         "Crime TV Shows, International TV Shows, TV Action & Adventure",
         "To protect his family from a powerful drug lord, skilled thief Mehdi and his expert team of robbers are pulled into a violent and deadly turf war."
        ],
        [
         "3",
         "s4",
         "TV Show",
         "Jailbirds New Orleans",
         null,
         null,
         null,
         "September 24, 2021",
         "2021",
         "TV-MA",
         "1 Season",
         "Docuseries, Reality TV",
         "Feuds, flirtations and toilet talk go down among the incarcerated women at the Orleans Justice Center in New Orleans on this gritty reality series."
        ],
        [
         "4",
         "s5",
         "TV Show",
         "Kota Factory",
         null,
         "Mayur More, Jitendra Kumar, Ranjan Raj, Alam Khan, Ahsaas Channa, Revathi Pillai, Urvi Singh, Arun Kumar",
         "India",
         "September 24, 2021",
         "2021",
         "TV-MA",
         "2 Seasons",
         "International TV Shows, Romantic TV Shows, TV Comedies",
         "In a city of coaching centers known to train India’s finest collegiate minds, an earnest but unexceptional student and his friends navigate campus life."
        ]
       ],
       "shape": {
        "columns": 12,
        "rows": 5
       }
      },
      "text/html": [
       "<div>\n",
       "<style scoped>\n",
       "    .dataframe tbody tr th:only-of-type {\n",
       "        vertical-align: middle;\n",
       "    }\n",
       "\n",
       "    .dataframe tbody tr th {\n",
       "        vertical-align: top;\n",
       "    }\n",
       "\n",
       "    .dataframe thead th {\n",
       "        text-align: right;\n",
       "    }\n",
       "</style>\n",
       "<table border=\"1\" class=\"dataframe\">\n",
       "  <thead>\n",
       "    <tr style=\"text-align: right;\">\n",
       "      <th></th>\n",
       "      <th>show_id</th>\n",
       "      <th>type</th>\n",
       "      <th>title</th>\n",
       "      <th>director</th>\n",
       "      <th>cast</th>\n",
       "      <th>country</th>\n",
       "      <th>date_added</th>\n",
       "      <th>release_year</th>\n",
       "      <th>rating</th>\n",
       "      <th>duration</th>\n",
       "      <th>listed_in</th>\n",
       "      <th>description</th>\n",
       "    </tr>\n",
       "  </thead>\n",
       "  <tbody>\n",
       "    <tr>\n",
       "      <th>0</th>\n",
       "      <td>s1</td>\n",
       "      <td>Movie</td>\n",
       "      <td>Dick Johnson Is Dead</td>\n",
       "      <td>Kirsten Johnson</td>\n",
       "      <td>NaN</td>\n",
       "      <td>United States</td>\n",
       "      <td>September 25, 2021</td>\n",
       "      <td>2020</td>\n",
       "      <td>PG-13</td>\n",
       "      <td>90 min</td>\n",
       "      <td>Documentaries</td>\n",
       "      <td>As her father nears the end of his life, filmm...</td>\n",
       "    </tr>\n",
       "    <tr>\n",
       "      <th>1</th>\n",
       "      <td>s2</td>\n",
       "      <td>TV Show</td>\n",
       "      <td>Blood &amp; Water</td>\n",
       "      <td>NaN</td>\n",
       "      <td>Ama Qamata, Khosi Ngema, Gail Mabalane, Thaban...</td>\n",
       "      <td>South Africa</td>\n",
       "      <td>September 24, 2021</td>\n",
       "      <td>2021</td>\n",
       "      <td>TV-MA</td>\n",
       "      <td>2 Seasons</td>\n",
       "      <td>International TV Shows, TV Dramas, TV Mysteries</td>\n",
       "      <td>After crossing paths at a party, a Cape Town t...</td>\n",
       "    </tr>\n",
       "    <tr>\n",
       "      <th>2</th>\n",
       "      <td>s3</td>\n",
       "      <td>TV Show</td>\n",
       "      <td>Ganglands</td>\n",
       "      <td>Julien Leclercq</td>\n",
       "      <td>Sami Bouajila, Tracy Gotoas, Samuel Jouy, Nabi...</td>\n",
       "      <td>NaN</td>\n",
       "      <td>September 24, 2021</td>\n",
       "      <td>2021</td>\n",
       "      <td>TV-MA</td>\n",
       "      <td>1 Season</td>\n",
       "      <td>Crime TV Shows, International TV Shows, TV Act...</td>\n",
       "      <td>To protect his family from a powerful drug lor...</td>\n",
       "    </tr>\n",
       "    <tr>\n",
       "      <th>3</th>\n",
       "      <td>s4</td>\n",
       "      <td>TV Show</td>\n",
       "      <td>Jailbirds New Orleans</td>\n",
       "      <td>NaN</td>\n",
       "      <td>NaN</td>\n",
       "      <td>NaN</td>\n",
       "      <td>September 24, 2021</td>\n",
       "      <td>2021</td>\n",
       "      <td>TV-MA</td>\n",
       "      <td>1 Season</td>\n",
       "      <td>Docuseries, Reality TV</td>\n",
       "      <td>Feuds, flirtations and toilet talk go down amo...</td>\n",
       "    </tr>\n",
       "    <tr>\n",
       "      <th>4</th>\n",
       "      <td>s5</td>\n",
       "      <td>TV Show</td>\n",
       "      <td>Kota Factory</td>\n",
       "      <td>NaN</td>\n",
       "      <td>Mayur More, Jitendra Kumar, Ranjan Raj, Alam K...</td>\n",
       "      <td>India</td>\n",
       "      <td>September 24, 2021</td>\n",
       "      <td>2021</td>\n",
       "      <td>TV-MA</td>\n",
       "      <td>2 Seasons</td>\n",
       "      <td>International TV Shows, Romantic TV Shows, TV ...</td>\n",
       "      <td>In a city of coaching centers known to train I...</td>\n",
       "    </tr>\n",
       "  </tbody>\n",
       "</table>\n",
       "</div>"
      ],
      "text/plain": [
       "  show_id     type                  title         director  \\\n",
       "0      s1    Movie   Dick Johnson Is Dead  Kirsten Johnson   \n",
       "1      s2  TV Show          Blood & Water              NaN   \n",
       "2      s3  TV Show              Ganglands  Julien Leclercq   \n",
       "3      s4  TV Show  Jailbirds New Orleans              NaN   \n",
       "4      s5  TV Show           Kota Factory              NaN   \n",
       "\n",
       "                                                cast        country  \\\n",
       "0                                                NaN  United States   \n",
       "1  Ama Qamata, Khosi Ngema, Gail Mabalane, Thaban...   South Africa   \n",
       "2  Sami Bouajila, Tracy Gotoas, Samuel Jouy, Nabi...            NaN   \n",
       "3                                                NaN            NaN   \n",
       "4  Mayur More, Jitendra Kumar, Ranjan Raj, Alam K...          India   \n",
       "\n",
       "           date_added  release_year rating   duration  \\\n",
       "0  September 25, 2021          2020  PG-13     90 min   \n",
       "1  September 24, 2021          2021  TV-MA  2 Seasons   \n",
       "2  September 24, 2021          2021  TV-MA   1 Season   \n",
       "3  September 24, 2021          2021  TV-MA   1 Season   \n",
       "4  September 24, 2021          2021  TV-MA  2 Seasons   \n",
       "\n",
       "                                           listed_in  \\\n",
       "0                                      Documentaries   \n",
       "1    International TV Shows, TV Dramas, TV Mysteries   \n",
       "2  Crime TV Shows, International TV Shows, TV Act...   \n",
       "3                             Docuseries, Reality TV   \n",
       "4  International TV Shows, Romantic TV Shows, TV ...   \n",
       "\n",
       "                                         description  \n",
       "0  As her father nears the end of his life, filmm...  \n",
       "1  After crossing paths at a party, a Cape Town t...  \n",
       "2  To protect his family from a powerful drug lor...  \n",
       "3  Feuds, flirtations and toilet talk go down amo...  \n",
       "4  In a city of coaching centers known to train I...  "
      ]
     },
     "execution_count": 65,
     "metadata": {},
     "output_type": "execute_result"
    }
   ],
   "source": [
    "peliculas.head()"
   ]
  },
  {
   "cell_type": "code",
   "execution_count": 66,
   "metadata": {},
   "outputs": [
    {
     "name": "stdout",
     "output_type": "stream",
     "text": [
      "<class 'pandas.core.frame.DataFrame'>\n",
      "RangeIndex: 8807 entries, 0 to 8806\n",
      "Data columns (total 12 columns):\n",
      " #   Column        Non-Null Count  Dtype \n",
      "---  ------        --------------  ----- \n",
      " 0   show_id       8807 non-null   object\n",
      " 1   type          8807 non-null   object\n",
      " 2   title         8807 non-null   object\n",
      " 3   director      6173 non-null   object\n",
      " 4   cast          7982 non-null   object\n",
      " 5   country       7976 non-null   object\n",
      " 6   date_added    8797 non-null   object\n",
      " 7   release_year  8807 non-null   int64 \n",
      " 8   rating        8803 non-null   object\n",
      " 9   duration      8804 non-null   object\n",
      " 10  listed_in     8807 non-null   object\n",
      " 11  description   8807 non-null   object\n",
      "dtypes: int64(1), object(11)\n",
      "memory usage: 825.8+ KB\n"
     ]
    }
   ],
   "source": [
    "peliculas.info()"
   ]
  },
  {
   "cell_type": "code",
   "execution_count": 67,
   "metadata": {},
   "outputs": [
    {
     "data": {
      "text/plain": [
       "show_id            0\n",
       "type               0\n",
       "title              0\n",
       "director        2634\n",
       "cast             825\n",
       "country          831\n",
       "date_added        10\n",
       "release_year       0\n",
       "rating             4\n",
       "duration           3\n",
       "listed_in          0\n",
       "description        0\n",
       "dtype: int64"
      ]
     },
     "execution_count": 67,
     "metadata": {},
     "output_type": "execute_result"
    }
   ],
   "source": [
    "peliculas.isnull().sum()"
   ]
  },
  {
   "cell_type": "code",
   "execution_count": 68,
   "metadata": {},
   "outputs": [
    {
     "data": {
      "text/plain": [
       "show_id         0\n",
       "type            0\n",
       "title           0\n",
       "director        0\n",
       "cast            0\n",
       "country         0\n",
       "date_added      0\n",
       "release_year    0\n",
       "rating          0\n",
       "duration        0\n",
       "listed_in       0\n",
       "description     0\n",
       "dtype: int64"
      ]
     },
     "execution_count": 68,
     "metadata": {},
     "output_type": "execute_result"
    }
   ],
   "source": [
    "(peliculas == '').sum()"
   ]
  },
  {
   "cell_type": "markdown",
   "metadata": {},
   "source": [
    "## 🧹 Limpieza y Transformación de los Datos\n",
    "\n",
    "A continuación, procedemos a limpiar y transformar los datos para asegurar que estén preparados para el análisis.\n"
   ]
  },
  {
   "cell_type": "code",
   "execution_count": 69,
   "metadata": {},
   "outputs": [],
   "source": [
    "columnas_eliminar = ['show_id','cast','date_added','description','duration']\n",
    "procesado = peliculas.drop(columns=columnas_eliminar )"
   ]
  },
  {
   "cell_type": "code",
   "execution_count": 70,
   "metadata": {},
   "outputs": [],
   "source": [
    "procesado = procesado.fillna('desconocido')"
   ]
  },
  {
   "cell_type": "code",
   "execution_count": 71,
   "metadata": {},
   "outputs": [
    {
     "data": {
      "text/plain": [
       "type            0\n",
       "title           0\n",
       "director        0\n",
       "country         0\n",
       "release_year    0\n",
       "rating          0\n",
       "listed_in       0\n",
       "dtype: int64"
      ]
     },
     "execution_count": 71,
     "metadata": {},
     "output_type": "execute_result"
    }
   ],
   "source": [
    "procesado.isnull().sum()"
   ]
  },
  {
   "cell_type": "code",
   "execution_count": 72,
   "metadata": {},
   "outputs": [],
   "source": [
    "procesado['first_genre'] = procesado['listed_in'].str.split(',').str[0]"
   ]
  },
  {
   "cell_type": "markdown",
   "metadata": {},
   "source": [
    "## Verificación del tipo de dato de release_year"
   ]
  },
  {
   "cell_type": "code",
   "execution_count": null,
   "metadata": {},
   "outputs": [
    {
     "data": {
      "text/plain": [
       "dtype('int64')"
      ]
     },
     "execution_count": 73,
     "metadata": {},
     "output_type": "execute_result"
    }
   ],
   "source": [
    "procesado['release_year'].dtype"
   ]
  },
  {
   "cell_type": "markdown",
   "metadata": {},
   "source": [
    "## Mostrando el resultado final"
   ]
  },
  {
   "cell_type": "code",
   "execution_count": 74,
   "metadata": {},
   "outputs": [
    {
     "data": {
      "application/vnd.microsoft.datawrangler.viewer.v0+json": {
       "columns": [
        {
         "name": "index",
         "rawType": "int64",
         "type": "integer"
        },
        {
         "name": "type",
         "rawType": "object",
         "type": "string"
        },
        {
         "name": "title",
         "rawType": "object",
         "type": "string"
        },
        {
         "name": "director",
         "rawType": "object",
         "type": "string"
        },
        {
         "name": "country",
         "rawType": "object",
         "type": "string"
        },
        {
         "name": "release_year",
         "rawType": "int64",
         "type": "integer"
        },
        {
         "name": "rating",
         "rawType": "object",
         "type": "string"
        },
        {
         "name": "listed_in",
         "rawType": "object",
         "type": "string"
        },
        {
         "name": "first_genre",
         "rawType": "object",
         "type": "string"
        }
       ],
       "conversionMethod": "pd.DataFrame",
       "ref": "620c1c21-866b-4126-a5e1-10dcc57454ee",
       "rows": [
        [
         "0",
         "Movie",
         "Dick Johnson Is Dead",
         "Kirsten Johnson",
         "United States",
         "2020",
         "PG-13",
         "Documentaries",
         "Documentaries"
        ],
        [
         "1",
         "TV Show",
         "Blood & Water",
         "desconocido",
         "South Africa",
         "2021",
         "TV-MA",
         "International TV Shows, TV Dramas, TV Mysteries",
         "International TV Shows"
        ],
        [
         "2",
         "TV Show",
         "Ganglands",
         "Julien Leclercq",
         "desconocido",
         "2021",
         "TV-MA",
         "Crime TV Shows, International TV Shows, TV Action & Adventure",
         "Crime TV Shows"
        ],
        [
         "3",
         "TV Show",
         "Jailbirds New Orleans",
         "desconocido",
         "desconocido",
         "2021",
         "TV-MA",
         "Docuseries, Reality TV",
         "Docuseries"
        ],
        [
         "4",
         "TV Show",
         "Kota Factory",
         "desconocido",
         "India",
         "2021",
         "TV-MA",
         "International TV Shows, Romantic TV Shows, TV Comedies",
         "International TV Shows"
        ],
        [
         "5",
         "TV Show",
         "Midnight Mass",
         "Mike Flanagan",
         "desconocido",
         "2021",
         "TV-MA",
         "TV Dramas, TV Horror, TV Mysteries",
         "TV Dramas"
        ],
        [
         "6",
         "Movie",
         "My Little Pony: A New Generation",
         "Robert Cullen, José Luis Ucha",
         "desconocido",
         "2021",
         "PG",
         "Children & Family Movies",
         "Children & Family Movies"
        ],
        [
         "7",
         "Movie",
         "Sankofa",
         "Haile Gerima",
         "United States, Ghana, Burkina Faso, United Kingdom, Germany, Ethiopia",
         "1993",
         "TV-MA",
         "Dramas, Independent Movies, International Movies",
         "Dramas"
        ],
        [
         "8",
         "TV Show",
         "The Great British Baking Show",
         "Andy Devonshire",
         "United Kingdom",
         "2021",
         "TV-14",
         "British TV Shows, Reality TV",
         "British TV Shows"
        ],
        [
         "9",
         "Movie",
         "The Starling",
         "Theodore Melfi",
         "United States",
         "2021",
         "PG-13",
         "Comedies, Dramas",
         "Comedies"
        ],
        [
         "10",
         "TV Show",
         "Vendetta: Truth, Lies and The Mafia",
         "desconocido",
         "desconocido",
         "2021",
         "TV-MA",
         "Crime TV Shows, Docuseries, International TV Shows",
         "Crime TV Shows"
        ],
        [
         "11",
         "TV Show",
         "Bangkok Breaking",
         "Kongkiat Komesiri",
         "desconocido",
         "2021",
         "TV-MA",
         "Crime TV Shows, International TV Shows, TV Action & Adventure",
         "Crime TV Shows"
        ],
        [
         "12",
         "Movie",
         "Je Suis Karl",
         "Christian Schwochow",
         "Germany, Czech Republic",
         "2021",
         "TV-MA",
         "Dramas, International Movies",
         "Dramas"
        ],
        [
         "13",
         "Movie",
         "Confessions of an Invisible Girl",
         "Bruno Garotti",
         "desconocido",
         "2021",
         "TV-PG",
         "Children & Family Movies, Comedies",
         "Children & Family Movies"
        ],
        [
         "14",
         "TV Show",
         "Crime Stories: India Detectives",
         "desconocido",
         "desconocido",
         "2021",
         "TV-MA",
         "British TV Shows, Crime TV Shows, Docuseries",
         "British TV Shows"
        ],
        [
         "15",
         "TV Show",
         "Dear White People",
         "desconocido",
         "United States",
         "2021",
         "TV-MA",
         "TV Comedies, TV Dramas",
         "TV Comedies"
        ],
        [
         "16",
         "Movie",
         "Europe's Most Dangerous Man: Otto Skorzeny in Spain",
         "Pedro de Echave García, Pablo Azorín Williams",
         "desconocido",
         "2020",
         "TV-MA",
         "Documentaries, International Movies",
         "Documentaries"
        ],
        [
         "17",
         "TV Show",
         "Falsa identidad",
         "desconocido",
         "Mexico",
         "2020",
         "TV-MA",
         "Crime TV Shows, Spanish-Language TV Shows, TV Dramas",
         "Crime TV Shows"
        ],
        [
         "18",
         "Movie",
         "Intrusion",
         "Adam Salky",
         "desconocido",
         "2021",
         "TV-14",
         "Thrillers",
         "Thrillers"
        ],
        [
         "19",
         "TV Show",
         "Jaguar",
         "desconocido",
         "desconocido",
         "2021",
         "TV-MA",
         "International TV Shows, Spanish-Language TV Shows, TV Action & Adventure",
         "International TV Shows"
        ],
        [
         "20",
         "TV Show",
         "Monsters Inside: The 24 Faces of Billy Milligan",
         "Olivier Megaton",
         "desconocido",
         "2021",
         "TV-14",
         "Crime TV Shows, Docuseries, International TV Shows",
         "Crime TV Shows"
        ],
        [
         "21",
         "TV Show",
         "Resurrection: Ertugrul",
         "desconocido",
         "Turkey",
         "2018",
         "TV-14",
         "International TV Shows, TV Action & Adventure, TV Dramas",
         "International TV Shows"
        ],
        [
         "22",
         "Movie",
         "Avvai Shanmughi",
         "K.S. Ravikumar",
         "desconocido",
         "1996",
         "TV-PG",
         "Comedies, International Movies",
         "Comedies"
        ],
        [
         "23",
         "Movie",
         "Go! Go! Cory Carson: Chrissy Takes the Wheel",
         "Alex Woo, Stanley Moore",
         "desconocido",
         "2021",
         "TV-Y",
         "Children & Family Movies",
         "Children & Family Movies"
        ],
        [
         "24",
         "Movie",
         "Jeans",
         "S. Shankar",
         "India",
         "1998",
         "TV-14",
         "Comedies, International Movies, Romantic Movies",
         "Comedies"
        ],
        [
         "25",
         "TV Show",
         "Love on the Spectrum",
         "desconocido",
         "Australia",
         "2021",
         "TV-14",
         "Docuseries, International TV Shows, Reality TV",
         "Docuseries"
        ],
        [
         "26",
         "Movie",
         "Minsara Kanavu",
         "Rajiv Menon",
         "desconocido",
         "1997",
         "TV-PG",
         "Comedies, International Movies, Music & Musicals",
         "Comedies"
        ],
        [
         "27",
         "Movie",
         "Grown Ups",
         "Dennis Dugan",
         "United States",
         "2010",
         "PG-13",
         "Comedies",
         "Comedies"
        ],
        [
         "28",
         "Movie",
         "Dark Skies",
         "Scott Stewart",
         "United States",
         "2013",
         "PG-13",
         "Horror Movies, Sci-Fi & Fantasy",
         "Horror Movies"
        ],
        [
         "29",
         "Movie",
         "Paranoia",
         "Robert Luketic",
         "United States, India, France",
         "2013",
         "PG-13",
         "Thrillers",
         "Thrillers"
        ],
        [
         "30",
         "Movie",
         "Ankahi Kahaniya",
         "Ashwiny Iyer Tiwari, Abhishek Chaubey, Saket Chaudhary",
         "desconocido",
         "2021",
         "TV-14",
         "Dramas, Independent Movies, International Movies",
         "Dramas"
        ],
        [
         "31",
         "TV Show",
         "Chicago Party Aunt",
         "desconocido",
         "desconocido",
         "2021",
         "TV-MA",
         "TV Comedies",
         "TV Comedies"
        ],
        [
         "32",
         "TV Show",
         "Sex Education",
         "desconocido",
         "United Kingdom",
         "2020",
         "TV-MA",
         "British TV Shows, International TV Shows, TV Comedies",
         "British TV Shows"
        ],
        [
         "33",
         "TV Show",
         "Squid Game",
         "desconocido",
         "desconocido",
         "2021",
         "TV-MA",
         "International TV Shows, TV Dramas, TV Thrillers",
         "International TV Shows"
        ],
        [
         "34",
         "TV Show",
         "Tayo and Little Wizards",
         "desconocido",
         "desconocido",
         "2020",
         "TV-Y7",
         "Kids' TV",
         "Kids' TV"
        ],
        [
         "35",
         "Movie",
         "The Father Who Moves Mountains",
         "Daniel Sandu",
         "desconocido",
         "2021",
         "TV-MA",
         "Dramas, International Movies, Thrillers",
         "Dramas"
        ],
        [
         "36",
         "Movie",
         "The Stronghold",
         "Cédric Jimenez",
         "desconocido",
         "2021",
         "TV-MA",
         "Action & Adventure, Dramas, International Movies",
         "Action & Adventure"
        ],
        [
         "37",
         "TV Show",
         "Angry Birds",
         "desconocido",
         "Finland",
         "2018",
         "TV-Y7",
         "Kids' TV, TV Comedies",
         "Kids' TV"
        ],
        [
         "38",
         "Movie",
         "Birth of the Dragon",
         "George Nolfi",
         "China, Canada, United States",
         "2017",
         "PG-13",
         "Action & Adventure, Dramas",
         "Action & Adventure"
        ],
        [
         "39",
         "TV Show",
         "Chhota Bheem",
         "desconocido",
         "India",
         "2021",
         "TV-Y7",
         "Kids' TV",
         "Kids' TV"
        ],
        [
         "40",
         "TV Show",
         "He-Man and the Masters of the Universe",
         "desconocido",
         "United States",
         "2021",
         "TV-Y7",
         "Kids' TV, TV Sci-Fi & Fantasy",
         "Kids' TV"
        ],
        [
         "41",
         "Movie",
         "Jaws",
         "Steven Spielberg",
         "United States",
         "1975",
         "PG",
         "Action & Adventure, Classic Movies, Dramas",
         "Action & Adventure"
        ],
        [
         "42",
         "Movie",
         "Jaws 2",
         "Jeannot Szwarc",
         "United States",
         "1978",
         "PG",
         "Dramas, Horror Movies, Thrillers",
         "Dramas"
        ],
        [
         "43",
         "Movie",
         "Jaws 3",
         "Joe Alves",
         "United States",
         "1983",
         "PG",
         "Action & Adventure, Horror Movies, Thrillers",
         "Action & Adventure"
        ],
        [
         "44",
         "Movie",
         "Jaws: The Revenge",
         "Joseph Sargent",
         "United States",
         "1987",
         "PG-13",
         "Action & Adventure, Horror Movies, Thrillers",
         "Action & Adventure"
        ],
        [
         "45",
         "Movie",
         "My Heroes Were Cowboys",
         "Tyler Greco",
         "desconocido",
         "2021",
         "PG",
         "Documentaries",
         "Documentaries"
        ],
        [
         "46",
         "Movie",
         "Safe House",
         "Daniel Espinosa",
         "South Africa, United States, Japan",
         "2012",
         "R",
         "Action & Adventure",
         "Action & Adventure"
        ],
        [
         "47",
         "TV Show",
         "The Smart Money Woman",
         "Bunmi Ajakaiye",
         "desconocido",
         "2020",
         "TV-MA",
         "International TV Shows, Romantic TV Shows, TV Comedies",
         "International TV Shows"
        ],
        [
         "48",
         "Movie",
         "Training Day",
         "Antoine Fuqua",
         "United States",
         "2001",
         "R",
         "Dramas, Thrillers",
         "Dramas"
        ],
        [
         "49",
         "TV Show",
         "Castle and Castle",
         "desconocido",
         "Nigeria",
         "2021",
         "TV-MA",
         "International TV Shows, TV Dramas",
         "International TV Shows"
        ]
       ],
       "shape": {
        "columns": 8,
        "rows": 8807
       }
      },
      "text/html": [
       "<div>\n",
       "<style scoped>\n",
       "    .dataframe tbody tr th:only-of-type {\n",
       "        vertical-align: middle;\n",
       "    }\n",
       "\n",
       "    .dataframe tbody tr th {\n",
       "        vertical-align: top;\n",
       "    }\n",
       "\n",
       "    .dataframe thead th {\n",
       "        text-align: right;\n",
       "    }\n",
       "</style>\n",
       "<table border=\"1\" class=\"dataframe\">\n",
       "  <thead>\n",
       "    <tr style=\"text-align: right;\">\n",
       "      <th></th>\n",
       "      <th>type</th>\n",
       "      <th>title</th>\n",
       "      <th>director</th>\n",
       "      <th>country</th>\n",
       "      <th>release_year</th>\n",
       "      <th>rating</th>\n",
       "      <th>listed_in</th>\n",
       "      <th>first_genre</th>\n",
       "    </tr>\n",
       "  </thead>\n",
       "  <tbody>\n",
       "    <tr>\n",
       "      <th>0</th>\n",
       "      <td>Movie</td>\n",
       "      <td>Dick Johnson Is Dead</td>\n",
       "      <td>Kirsten Johnson</td>\n",
       "      <td>United States</td>\n",
       "      <td>2020</td>\n",
       "      <td>PG-13</td>\n",
       "      <td>Documentaries</td>\n",
       "      <td>Documentaries</td>\n",
       "    </tr>\n",
       "    <tr>\n",
       "      <th>1</th>\n",
       "      <td>TV Show</td>\n",
       "      <td>Blood &amp; Water</td>\n",
       "      <td>desconocido</td>\n",
       "      <td>South Africa</td>\n",
       "      <td>2021</td>\n",
       "      <td>TV-MA</td>\n",
       "      <td>International TV Shows, TV Dramas, TV Mysteries</td>\n",
       "      <td>International TV Shows</td>\n",
       "    </tr>\n",
       "    <tr>\n",
       "      <th>2</th>\n",
       "      <td>TV Show</td>\n",
       "      <td>Ganglands</td>\n",
       "      <td>Julien Leclercq</td>\n",
       "      <td>desconocido</td>\n",
       "      <td>2021</td>\n",
       "      <td>TV-MA</td>\n",
       "      <td>Crime TV Shows, International TV Shows, TV Act...</td>\n",
       "      <td>Crime TV Shows</td>\n",
       "    </tr>\n",
       "    <tr>\n",
       "      <th>3</th>\n",
       "      <td>TV Show</td>\n",
       "      <td>Jailbirds New Orleans</td>\n",
       "      <td>desconocido</td>\n",
       "      <td>desconocido</td>\n",
       "      <td>2021</td>\n",
       "      <td>TV-MA</td>\n",
       "      <td>Docuseries, Reality TV</td>\n",
       "      <td>Docuseries</td>\n",
       "    </tr>\n",
       "    <tr>\n",
       "      <th>4</th>\n",
       "      <td>TV Show</td>\n",
       "      <td>Kota Factory</td>\n",
       "      <td>desconocido</td>\n",
       "      <td>India</td>\n",
       "      <td>2021</td>\n",
       "      <td>TV-MA</td>\n",
       "      <td>International TV Shows, Romantic TV Shows, TV ...</td>\n",
       "      <td>International TV Shows</td>\n",
       "    </tr>\n",
       "    <tr>\n",
       "      <th>...</th>\n",
       "      <td>...</td>\n",
       "      <td>...</td>\n",
       "      <td>...</td>\n",
       "      <td>...</td>\n",
       "      <td>...</td>\n",
       "      <td>...</td>\n",
       "      <td>...</td>\n",
       "      <td>...</td>\n",
       "    </tr>\n",
       "    <tr>\n",
       "      <th>8802</th>\n",
       "      <td>Movie</td>\n",
       "      <td>Zodiac</td>\n",
       "      <td>David Fincher</td>\n",
       "      <td>United States</td>\n",
       "      <td>2007</td>\n",
       "      <td>R</td>\n",
       "      <td>Cult Movies, Dramas, Thrillers</td>\n",
       "      <td>Cult Movies</td>\n",
       "    </tr>\n",
       "    <tr>\n",
       "      <th>8803</th>\n",
       "      <td>TV Show</td>\n",
       "      <td>Zombie Dumb</td>\n",
       "      <td>desconocido</td>\n",
       "      <td>desconocido</td>\n",
       "      <td>2018</td>\n",
       "      <td>TV-Y7</td>\n",
       "      <td>Kids' TV, Korean TV Shows, TV Comedies</td>\n",
       "      <td>Kids' TV</td>\n",
       "    </tr>\n",
       "    <tr>\n",
       "      <th>8804</th>\n",
       "      <td>Movie</td>\n",
       "      <td>Zombieland</td>\n",
       "      <td>Ruben Fleischer</td>\n",
       "      <td>United States</td>\n",
       "      <td>2009</td>\n",
       "      <td>R</td>\n",
       "      <td>Comedies, Horror Movies</td>\n",
       "      <td>Comedies</td>\n",
       "    </tr>\n",
       "    <tr>\n",
       "      <th>8805</th>\n",
       "      <td>Movie</td>\n",
       "      <td>Zoom</td>\n",
       "      <td>Peter Hewitt</td>\n",
       "      <td>United States</td>\n",
       "      <td>2006</td>\n",
       "      <td>PG</td>\n",
       "      <td>Children &amp; Family Movies, Comedies</td>\n",
       "      <td>Children &amp; Family Movies</td>\n",
       "    </tr>\n",
       "    <tr>\n",
       "      <th>8806</th>\n",
       "      <td>Movie</td>\n",
       "      <td>Zubaan</td>\n",
       "      <td>Mozez Singh</td>\n",
       "      <td>India</td>\n",
       "      <td>2015</td>\n",
       "      <td>TV-14</td>\n",
       "      <td>Dramas, International Movies, Music &amp; Musicals</td>\n",
       "      <td>Dramas</td>\n",
       "    </tr>\n",
       "  </tbody>\n",
       "</table>\n",
       "<p>8807 rows × 8 columns</p>\n",
       "</div>"
      ],
      "text/plain": [
       "         type                  title         director        country  \\\n",
       "0       Movie   Dick Johnson Is Dead  Kirsten Johnson  United States   \n",
       "1     TV Show          Blood & Water      desconocido   South Africa   \n",
       "2     TV Show              Ganglands  Julien Leclercq    desconocido   \n",
       "3     TV Show  Jailbirds New Orleans      desconocido    desconocido   \n",
       "4     TV Show           Kota Factory      desconocido          India   \n",
       "...       ...                    ...              ...            ...   \n",
       "8802    Movie                 Zodiac    David Fincher  United States   \n",
       "8803  TV Show            Zombie Dumb      desconocido    desconocido   \n",
       "8804    Movie             Zombieland  Ruben Fleischer  United States   \n",
       "8805    Movie                   Zoom     Peter Hewitt  United States   \n",
       "8806    Movie                 Zubaan      Mozez Singh          India   \n",
       "\n",
       "      release_year rating                                          listed_in  \\\n",
       "0             2020  PG-13                                      Documentaries   \n",
       "1             2021  TV-MA    International TV Shows, TV Dramas, TV Mysteries   \n",
       "2             2021  TV-MA  Crime TV Shows, International TV Shows, TV Act...   \n",
       "3             2021  TV-MA                             Docuseries, Reality TV   \n",
       "4             2021  TV-MA  International TV Shows, Romantic TV Shows, TV ...   \n",
       "...            ...    ...                                                ...   \n",
       "8802          2007      R                     Cult Movies, Dramas, Thrillers   \n",
       "8803          2018  TV-Y7             Kids' TV, Korean TV Shows, TV Comedies   \n",
       "8804          2009      R                            Comedies, Horror Movies   \n",
       "8805          2006     PG                 Children & Family Movies, Comedies   \n",
       "8806          2015  TV-14     Dramas, International Movies, Music & Musicals   \n",
       "\n",
       "                   first_genre  \n",
       "0                Documentaries  \n",
       "1       International TV Shows  \n",
       "2               Crime TV Shows  \n",
       "3                   Docuseries  \n",
       "4       International TV Shows  \n",
       "...                        ...  \n",
       "8802               Cult Movies  \n",
       "8803                  Kids' TV  \n",
       "8804                  Comedies  \n",
       "8805  Children & Family Movies  \n",
       "8806                    Dramas  \n",
       "\n",
       "[8807 rows x 8 columns]"
      ]
     },
     "execution_count": 74,
     "metadata": {},
     "output_type": "execute_result"
    }
   ],
   "source": [
    "procesado"
   ]
  },
  {
   "cell_type": "code",
   "execution_count": 77,
   "metadata": {},
   "outputs": [
    {
     "data": {
      "text/plain": [
       "0      2020-01-01\n",
       "1      2021-01-01\n",
       "2      2021-01-01\n",
       "3      2021-01-01\n",
       "4      2021-01-01\n",
       "          ...    \n",
       "8802   2007-01-01\n",
       "8803   2018-01-01\n",
       "8804   2009-01-01\n",
       "8805   2006-01-01\n",
       "8806   2015-01-01\n",
       "Name: release_year, Length: 8807, dtype: datetime64[ns]"
      ]
     },
     "execution_count": 77,
     "metadata": {},
     "output_type": "execute_result"
    }
   ],
   "source": [
    "procesado['release_year'] = pd.to_datetime(procesado['release_year'], format='%Y')\n",
    "procesado['release_year']"
   ]
  },
  {
   "cell_type": "code",
   "execution_count": 76,
   "metadata": {},
   "outputs": [],
   "source": [
    "procesado.to_csv('procesado.csv')"
   ]
  },
  {
   "cell_type": "markdown",
   "metadata": {},
   "source": [
    "## Visualización de los datos"
   ]
  },
  {
   "cell_type": "markdown",
   "metadata": {},
   "source": [
    "![Dashboard de Power BI](image/Dashboard%20de%20netlifx.jpg)\n"
   ]
  },
  {
   "cell_type": "markdown",
   "metadata": {},
   "source": [
    "## Conclusión\n",
    "\n",
    "En este análisis, se realizó una limpieza y transformación de los datos del archivo `netflix_titles.csv` con el objetivo de preparar la información para su posterior uso. A continuación, se resumen los pasos clave y los resultados obtenidos:"
   ]
  },
  {
   "cell_type": "markdown",
   "metadata": {},
   "source": [
    "1. **Identificación y manejo de valores nulos:**\n",
    "    - Se identificaron **4,307 valores nulos** en el conjunto de datos.\n",
    "    - Se decidió reemplazar estos valores nulos con la cadena `\"desconocido\"` para mantener la integridad de los datos y evitar la pérdida de registros.\n",
    "\n",
    "2. **Identificación de valores incompletos:**\n",
    "   - Se utilizó `(peliculas == '').sum()` para verificar si había valores vacíos o incompletos en el DataFrame.\n",
    "   - No se encontraron valores incompletos (cadenas vacías) en ninguna de las columnas.\n",
    "\n",
    "3. **Eliminación de las columnas innecesarias:**\n",
    "    - Se eliminaron las columnas `show_id`, `cast`, `date_added`, `description`, y `duration` porque no aportaban información relevante para el análisis. Estas columnas contenían datos como identificadores únicos, listas de actores, fechas de agregado, descripciones textuales y duraciones, que no eran útiles para explorar géneros, años de lanzamiento o ratings. Su eliminación simplificó el conjunto de datos y permitió enfocarse en las características clave de los títulos.\n",
    "\n",
    "4.  **Verificación del tipo de datos:**\n",
    "    - Se identifico que la columna `release_year` es de tipo de dato ('int64') por lo que fue la necesario realizar la conversión\n",
    "\n",
    "5. **Extración del primer genero:**\n",
    "    - La columna `listed_in` contenia múltiples generos separados por comas. por lo que fue necesario extraer el primer genero de cada columna para asi mostrarlo en una nueva columna llamada `first_genre`\n",
    "\n",
    "6. **Exportación del archivo:**\n",
    "    - los datos ya fueron limpiados y procesados para su análisis.\n",
    "7. **Análisis y visualización**  \n",
    "Los datos fueron analizados y se obtuvieron insights clave sobre los países con más películas, los géneros más populares y la evolución del cine a lo largo de los años.\n"
   ]
  },
  {
   "cell_type": "markdown",
   "metadata": {},
   "source": []
  }
 ],
 "metadata": {
  "kernelspec": {
   "display_name": "venv",
   "language": "python",
   "name": "python3"
  },
  "language_info": {
   "codemirror_mode": {
    "name": "ipython",
    "version": 3
   },
   "file_extension": ".py",
   "mimetype": "text/x-python",
   "name": "python",
   "nbconvert_exporter": "python",
   "pygments_lexer": "ipython3",
   "version": "3.13.2"
  }
 },
 "nbformat": 4,
 "nbformat_minor": 2
}
